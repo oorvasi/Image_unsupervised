{
 "cells": [
  {
   "cell_type": "markdown",
   "metadata": {},
   "source": [
    "Votre client possède fichier csv contenant des informations sur ces clients. Il souhaite mettre ses informations sous format json, afin de l'intégegrer dans une base de donnée mongodb. convertir ce fichier csv en json avec des valeurs imbriquées (nesté): \n",
    "\n",
    "\"location\": { \"pays\": ... \"departement\":... \"hobbies\" : ['ski', \"Stacraft II\", ...] } \n",
    "\n",
    "Bonus : intégrer ce Json dans une base de donnée mongoDB en ligne de commande"
   ]
  },
  {
   "cell_type": "markdown",
   "metadata": {},
   "source": [
    "{\"hobbie: [\"ski\", \"Starcraft II\"], \"location\": {\"departement\" : 91, \"pays\" : \"France\"}, \"id_personn\" : 12, \"sex\":\"M\", \"Age\" :26}"
   ]
  },
  {
   "cell_type": "markdown",
   "metadata": {},
   "source": [
    "\"hobbie\" :[\"hobbie1\",\"hobbie2\"],\"location\":{\"departement\" : département, \"pays\" : \"pays\"}, \"id_personn\" : id_personn, \"sex\":\"sex\", \"Age\" :Age}"
   ]
  },
  {
   "cell_type": "code",
   "execution_count": 37,
   "metadata": {},
   "outputs": [],
   "source": [
    "import pandas as pd"
   ]
  },
  {
   "cell_type": "code",
   "execution_count": 38,
   "metadata": {},
   "outputs": [],
   "source": [
    "df = pd.read_csv(\"clients.csv\")"
   ]
  },
  {
   "cell_type": "code",
   "execution_count": 39,
   "metadata": {},
   "outputs": [
    {
     "data": {
      "text/html": [
       "<div>\n",
       "<style scoped>\n",
       "    .dataframe tbody tr th:only-of-type {\n",
       "        vertical-align: middle;\n",
       "    }\n",
       "\n",
       "    .dataframe tbody tr th {\n",
       "        vertical-align: top;\n",
       "    }\n",
       "\n",
       "    .dataframe thead th {\n",
       "        text-align: right;\n",
       "    }\n",
       "</style>\n",
       "<table border=\"1\" class=\"dataframe\">\n",
       "  <thead>\n",
       "    <tr style=\"text-align: right;\">\n",
       "      <th></th>\n",
       "      <th>hobbie1</th>\n",
       "      <th>hobbie2</th>\n",
       "      <th>hobbie3</th>\n",
       "      <th>id_personn</th>\n",
       "      <th>département</th>\n",
       "      <th>pays</th>\n",
       "      <th>sex</th>\n",
       "      <th>Age</th>\n",
       "    </tr>\n",
       "  </thead>\n",
       "  <tbody>\n",
       "    <tr>\n",
       "      <th>0</th>\n",
       "      <td>ski</td>\n",
       "      <td>NaN</td>\n",
       "      <td>Cooking</td>\n",
       "      <td>1</td>\n",
       "      <td>95</td>\n",
       "      <td>Allemagne</td>\n",
       "      <td>F</td>\n",
       "      <td>35.0</td>\n",
       "    </tr>\n",
       "    <tr>\n",
       "      <th>1</th>\n",
       "      <td>NaN</td>\n",
       "      <td>Pokemon Go</td>\n",
       "      <td>Ping Pong</td>\n",
       "      <td>2</td>\n",
       "      <td>94</td>\n",
       "      <td>Allemagne</td>\n",
       "      <td>F</td>\n",
       "      <td>8.0</td>\n",
       "    </tr>\n",
       "    <tr>\n",
       "      <th>2</th>\n",
       "      <td>basket</td>\n",
       "      <td>Dofus</td>\n",
       "      <td>Cooking</td>\n",
       "      <td>3</td>\n",
       "      <td>95</td>\n",
       "      <td>France</td>\n",
       "      <td>M</td>\n",
       "      <td>23.0</td>\n",
       "    </tr>\n",
       "    <tr>\n",
       "      <th>3</th>\n",
       "      <td>ski</td>\n",
       "      <td>Dofus</td>\n",
       "      <td>Cooking</td>\n",
       "      <td>4</td>\n",
       "      <td>75</td>\n",
       "      <td>France</td>\n",
       "      <td>F</td>\n",
       "      <td>0.0</td>\n",
       "    </tr>\n",
       "    <tr>\n",
       "      <th>4</th>\n",
       "      <td>painting</td>\n",
       "      <td>NaN</td>\n",
       "      <td>Ping Pong</td>\n",
       "      <td>5</td>\n",
       "      <td>78</td>\n",
       "      <td>France</td>\n",
       "      <td>F</td>\n",
       "      <td>1.0</td>\n",
       "    </tr>\n",
       "  </tbody>\n",
       "</table>\n",
       "</div>"
      ],
      "text/plain": [
       "    hobbie1     hobbie2    hobbie3  id_personn  département       pays sex  \\\n",
       "0       ski         NaN    Cooking           1           95  Allemagne   F   \n",
       "1       NaN  Pokemon Go  Ping Pong           2           94  Allemagne   F   \n",
       "2    basket       Dofus    Cooking           3           95     France   M   \n",
       "3       ski       Dofus    Cooking           4           75     France   F   \n",
       "4  painting         NaN  Ping Pong           5           78     France   F   \n",
       "\n",
       "    Age  \n",
       "0  35.0  \n",
       "1   8.0  \n",
       "2  23.0  \n",
       "3   0.0  \n",
       "4   1.0  "
      ]
     },
     "execution_count": 39,
     "metadata": {},
     "output_type": "execute_result"
    }
   ],
   "source": [
    "df.head()"
   ]
  },
  {
   "cell_type": "code",
   "execution_count": 40,
   "metadata": {},
   "outputs": [
    {
     "data": {
      "text/plain": [
       "0           ski\n",
       "1           NaN\n",
       "2        basket\n",
       "3           ski\n",
       "4      painting\n",
       "         ...   \n",
       "995         NaN\n",
       "996      basket\n",
       "997         NaN\n",
       "998         ski\n",
       "999    painting\n",
       "Name: hobbie1, Length: 1000, dtype: object"
      ]
     },
     "execution_count": 40,
     "metadata": {},
     "output_type": "execute_result"
    }
   ],
   "source": [
    "df['hobbie1']"
   ]
  },
  {
   "cell_type": "code",
   "execution_count": 56,
   "metadata": {},
   "outputs": [],
   "source": [
    "import json\n",
    " \n",
    "csv_rows = []\n",
    "data = [{'hobbie':df[['hobbie1','hobbie2','hobbie3']],'location':df[['département','pays']],'id_personn':df[['sex','Age']]}]\n",
    "\n",
    "#print(json.dumps(df))\n"
   ]
  },
  {
   "cell_type": "code",
   "execution_count": 57,
   "metadata": {},
   "outputs": [
    {
     "data": {
      "text/plain": [
       "[{'hobbie':       hobbie1       hobbie2    hobbie3\n",
       "  0         ski           NaN    Cooking\n",
       "  1         NaN    Pokemon Go  Ping Pong\n",
       "  2      basket         Dofus    Cooking\n",
       "  3         ski         Dofus    Cooking\n",
       "  4    painting           NaN  Ping Pong\n",
       "  ..        ...           ...        ...\n",
       "  995       NaN           NaN  Ping Pong\n",
       "  996    basket         Dofus  Ping Pong\n",
       "  997       NaN   Stacraft II  Ping Pong\n",
       "  998       ski  Warcraft III  Ping Pong\n",
       "  999  painting         Dofus    Cooking\n",
       "  \n",
       "  [1000 rows x 3 columns],\n",
       "  'location':      département       pays\n",
       "  0             95  Allemagne\n",
       "  1             94  Allemagne\n",
       "  2             95     France\n",
       "  3             75     France\n",
       "  4             78     France\n",
       "  ..           ...        ...\n",
       "  995           93  Allemagne\n",
       "  996           93  Allemagne\n",
       "  997           93   Portugal\n",
       "  998           75     France\n",
       "  999           91  Allemagne\n",
       "  \n",
       "  [1000 rows x 2 columns],\n",
       "  'id_personn':     sex   Age\n",
       "  0     F  35.0\n",
       "  1     F   8.0\n",
       "  2     M  23.0\n",
       "  3     F   0.0\n",
       "  4     F   1.0\n",
       "  ..   ..   ...\n",
       "  995   M  20.0\n",
       "  996   F  44.0\n",
       "  997   M   5.0\n",
       "  998   F   0.0\n",
       "  999   M  14.0\n",
       "  \n",
       "  [1000 rows x 2 columns]}]"
      ]
     },
     "execution_count": 57,
     "metadata": {},
     "output_type": "execute_result"
    }
   ],
   "source": [
    "data"
   ]
  },
  {
   "cell_type": "code",
   "execution_count": 59,
   "metadata": {},
   "outputs": [
    {
     "ename": "AttributeError",
     "evalue": "'list' object has no attribute 'to_json'",
     "output_type": "error",
     "traceback": [
      "\u001b[0;31m---------------------------------------------------------------------------\u001b[0m",
      "\u001b[0;31mAttributeError\u001b[0m                            Traceback (most recent call last)",
      "\u001b[0;32m<ipython-input-59-676b641f6de2>\u001b[0m in \u001b[0;36m<module>\u001b[0;34m\u001b[0m\n\u001b[0;32m----> 1\u001b[0;31m \u001b[0mresult\u001b[0m \u001b[0;34m=\u001b[0m \u001b[0mdata\u001b[0m\u001b[0;34m.\u001b[0m\u001b[0mto_json\u001b[0m\u001b[0;34m(\u001b[0m\u001b[0morient\u001b[0m\u001b[0;34m=\u001b[0m\u001b[0;34m\"split\"\u001b[0m\u001b[0;34m)\u001b[0m\u001b[0;34m\u001b[0m\u001b[0;34m\u001b[0m\u001b[0m\n\u001b[0m\u001b[1;32m      2\u001b[0m \u001b[0mparsed\u001b[0m \u001b[0;34m=\u001b[0m \u001b[0mjson\u001b[0m\u001b[0;34m.\u001b[0m\u001b[0mloads\u001b[0m\u001b[0;34m(\u001b[0m\u001b[0mresult\u001b[0m\u001b[0;34m)\u001b[0m\u001b[0;34m\u001b[0m\u001b[0;34m\u001b[0m\u001b[0m\n\u001b[1;32m      3\u001b[0m \u001b[0mjson\u001b[0m\u001b[0;34m.\u001b[0m\u001b[0mdumps\u001b[0m\u001b[0;34m(\u001b[0m\u001b[0mparsed\u001b[0m\u001b[0;34m)\u001b[0m\u001b[0;34m\u001b[0m\u001b[0;34m\u001b[0m\u001b[0m\n",
      "\u001b[0;31mAttributeError\u001b[0m: 'list' object has no attribute 'to_json'"
     ]
    }
   ],
   "source": [
    "result = data.to_json(orient=\"split\")\n",
    "parsed = json.loads(result)\n",
    "json.dumps(parsed)"
   ]
  },
  {
   "cell_type": "code",
   "execution_count": null,
   "metadata": {},
   "outputs": [],
   "source": []
  }
 ],
 "metadata": {
  "kernelspec": {
   "display_name": "Python 3",
   "language": "python",
   "name": "python3"
  },
  "language_info": {
   "codemirror_mode": {
    "name": "ipython",
    "version": 3
   },
   "file_extension": ".py",
   "mimetype": "text/x-python",
   "name": "python",
   "nbconvert_exporter": "python",
   "pygments_lexer": "ipython3",
   "version": "3.7.4"
  }
 },
 "nbformat": 4,
 "nbformat_minor": 4
}
